{
 "cells": [
  {
   "metadata": {
    "ExecuteTime": {
     "end_time": "2024-05-17T11:43:07.625147Z",
     "start_time": "2024-05-17T11:43:07.217460Z"
    }
   },
   "cell_type": "code",
   "source": [
    "# Python Imports\n",
    "import networkx as nx\n",
    "import ipywidgets as widgets\n",
    "import matplotlib\n",
    "matplotlib.use('Qt5Agg')\n",
    "import matplotlib.pyplot as plt\n",
    "\n",
    "# Project Imports\n",
    "from src.mesh_analysis.readers.file_reader import FileReader\n",
    "from src.mesh_analysis.tracers.waku_tracer import WakuTracer\n",
    "from src.mesh_analysis.visualizer.waku_visualizer import add_elapsed_time\n",
    "from src.mesh_analysis.visualizer.waku_visualizer import prepare_dropdowns\n",
    "from src.mesh_analysis.visualizer.waku_visualizer import get_node_position\n",
    "from src.mesh_analysis.visualizer.waku_visualizer import display_msg_trace"
   ],
   "id": "b364992afb5a097b",
   "outputs": [],
   "execution_count": 2
  },
  {
   "metadata": {
    "ExecuteTime": {
     "end_time": "2024-05-17T11:43:08.086222Z",
     "start_time": "2024-05-17T11:43:07.626161Z"
    }
   },
   "cell_type": "code",
   "source": [
    "tracer = WakuTracer()\n",
    "reader = FileReader(\"../../../test/log_test/\", tracer)\n",
    "\n",
    "df = reader.read()\n",
    "df = add_elapsed_time(df)"
   ],
   "id": "initial_id",
   "outputs": [],
   "execution_count": 3
  },
  {
   "metadata": {
    "ExecuteTime": {
     "end_time": "2024-05-17T11:43:08.095917Z",
     "start_time": "2024-05-17T11:43:08.087232Z"
    }
   },
   "cell_type": "code",
   "source": "df",
   "id": "43e4f1618d751b7d",
   "outputs": [
    {
     "data": {
      "text/plain": [
       "                                          sender_peer_id receiver_peer_id  \\\n",
       "msg_hash timestamp                                                          \n",
       "0x1      2024-04-22 14:06:58.001000+00:00              A                B   \n",
       "         2024-04-22 14:06:58.002000+00:00              B                D   \n",
       "         2024-04-22 14:06:58.003000+00:00              A                C   \n",
       "         2024-04-22 14:06:58.003000+00:00              D                E   \n",
       "         2024-04-22 14:06:58.006000+00:00              A                F   \n",
       "0x2      2024-04-22 14:06:59.001000+00:00              A                B   \n",
       "\n",
       "                                           elapsed_time  \n",
       "msg_hash timestamp                                       \n",
       "0x1      2024-04-22 14:06:58.001000+00:00             0  \n",
       "         2024-04-22 14:06:58.002000+00:00             1  \n",
       "         2024-04-22 14:06:58.003000+00:00             2  \n",
       "         2024-04-22 14:06:58.003000+00:00             2  \n",
       "         2024-04-22 14:06:58.006000+00:00             5  \n",
       "0x2      2024-04-22 14:06:59.001000+00:00             0  "
      ],
      "text/html": [
       "<div>\n",
       "<style scoped>\n",
       "    .dataframe tbody tr th:only-of-type {\n",
       "        vertical-align: middle;\n",
       "    }\n",
       "\n",
       "    .dataframe tbody tr th {\n",
       "        vertical-align: top;\n",
       "    }\n",
       "\n",
       "    .dataframe thead th {\n",
       "        text-align: right;\n",
       "    }\n",
       "</style>\n",
       "<table border=\"1\" class=\"dataframe\">\n",
       "  <thead>\n",
       "    <tr style=\"text-align: right;\">\n",
       "      <th></th>\n",
       "      <th></th>\n",
       "      <th>sender_peer_id</th>\n",
       "      <th>receiver_peer_id</th>\n",
       "      <th>elapsed_time</th>\n",
       "    </tr>\n",
       "    <tr>\n",
       "      <th>msg_hash</th>\n",
       "      <th>timestamp</th>\n",
       "      <th></th>\n",
       "      <th></th>\n",
       "      <th></th>\n",
       "    </tr>\n",
       "  </thead>\n",
       "  <tbody>\n",
       "    <tr>\n",
       "      <th rowspan=\"5\" valign=\"top\">0x1</th>\n",
       "      <th>2024-04-22 14:06:58.001000+00:00</th>\n",
       "      <td>A</td>\n",
       "      <td>B</td>\n",
       "      <td>0</td>\n",
       "    </tr>\n",
       "    <tr>\n",
       "      <th>2024-04-22 14:06:58.002000+00:00</th>\n",
       "      <td>B</td>\n",
       "      <td>D</td>\n",
       "      <td>1</td>\n",
       "    </tr>\n",
       "    <tr>\n",
       "      <th>2024-04-22 14:06:58.003000+00:00</th>\n",
       "      <td>A</td>\n",
       "      <td>C</td>\n",
       "      <td>2</td>\n",
       "    </tr>\n",
       "    <tr>\n",
       "      <th>2024-04-22 14:06:58.003000+00:00</th>\n",
       "      <td>D</td>\n",
       "      <td>E</td>\n",
       "      <td>2</td>\n",
       "    </tr>\n",
       "    <tr>\n",
       "      <th>2024-04-22 14:06:58.006000+00:00</th>\n",
       "      <td>A</td>\n",
       "      <td>F</td>\n",
       "      <td>5</td>\n",
       "    </tr>\n",
       "    <tr>\n",
       "      <th>0x2</th>\n",
       "      <th>2024-04-22 14:06:59.001000+00:00</th>\n",
       "      <td>A</td>\n",
       "      <td>B</td>\n",
       "      <td>0</td>\n",
       "    </tr>\n",
       "  </tbody>\n",
       "</table>\n",
       "</div>"
      ]
     },
     "execution_count": 4,
     "metadata": {},
     "output_type": "execute_result"
    }
   ],
   "execution_count": 4
  },
  {
   "metadata": {
    "ExecuteTime": {
     "end_time": "2024-05-17T11:43:15.229506Z",
     "start_time": "2024-05-17T11:43:15.136824Z"
    }
   },
   "cell_type": "code",
   "source": [
    "%matplotlib\n",
    "\n",
    "msg_d, t_d = prepare_dropdowns(df)\n",
    "g_pos_layout = get_node_position(df)\n",
    "    \n",
    "fig = plt.figure(figsize=(10,10))\n",
    "ax_ = fig.add_subplot(1, 1, 1)\n",
    "\n",
    "i_plot = widgets.interactive(display_msg_trace, x=msg_d, y=t_d, g_pos_layout=widgets.fixed(g_pos_layout),data_=widgets.fixed(df), ax_=widgets.fixed(ax_))\n",
    "i_plot\n"
   ],
   "id": "115666e06e1945d6",
   "outputs": [
    {
     "name": "stdout",
     "output_type": "stream",
     "text": [
      "Using matplotlib backend: QtAgg\n"
     ]
    },
    {
     "data": {
      "text/plain": [
       "interactive(children=(SelectMultiple(description='Msg hash', layout=Layout(height='100px', width='100%'), opti…"
      ],
      "application/vnd.jupyter.widget-view+json": {
       "version_major": 2,
       "version_minor": 0,
       "model_id": "6358e8000d9244e0855ba7eda95ac6c0"
      }
     },
     "execution_count": 6,
     "metadata": {},
     "output_type": "execute_result"
    }
   ],
   "execution_count": 6
  },
  {
   "metadata": {},
   "cell_type": "code",
   "outputs": [],
   "execution_count": null,
   "source": "",
   "id": "f057ce5d030cc16f"
  }
 ],
 "metadata": {
  "kernelspec": {
   "display_name": "Python 3",
   "language": "python",
   "name": "python3"
  },
  "language_info": {
   "codemirror_mode": {
    "name": "ipython",
    "version": 2
   },
   "file_extension": ".py",
   "mimetype": "text/x-python",
   "name": "python",
   "nbconvert_exporter": "python",
   "pygments_lexer": "ipython2",
   "version": "2.7.6"
  }
 },
 "nbformat": 4,
 "nbformat_minor": 5
}
