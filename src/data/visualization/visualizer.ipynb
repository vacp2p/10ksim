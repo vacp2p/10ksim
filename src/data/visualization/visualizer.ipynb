{
 "cells": [
  {
   "metadata": {
    "ExecuteTime": {
     "end_time": "2024-05-14T09:24:04.813863Z",
     "start_time": "2024-05-14T09:24:04.068932Z"
    }
   },
   "cell_type": "code",
   "source": [
    "# Python Imports\n",
    "import ipywidgets as widgets\n",
    "import networkx as nx\n",
    "import matplotlib\n",
    "matplotlib.use('Qt5Agg')\n",
    "import matplotlib.pyplot as plt\n",
    "\n",
    "# Project Imports\n",
    "from src.mesh_analysis.readers.file_reader import FileReader\n",
    "from src.mesh_analysis.tracers.waku_tracer import WakuTracer"
   ],
   "id": "b364992afb5a097b",
   "outputs": [],
   "execution_count": 1
  },
  {
   "metadata": {
    "ExecuteTime": {
     "end_time": "2024-05-14T09:55:03.053677Z",
     "start_time": "2024-05-14T09:55:02.523527Z"
    }
   },
   "cell_type": "code",
   "source": [
    "tracer = WakuTracer()\n",
    "reader = FileReader(\"../../../test/log_test/\", tracer)\n",
    "\n",
    "df = reader.read()\n",
    "test = df.reset_index()"
   ],
   "id": "initial_id",
   "outputs": [],
   "execution_count": 27
  },
  {
   "metadata": {},
   "cell_type": "markdown",
   "source": "",
   "id": "20263a2b18ec67ab"
  },
  {
   "metadata": {
    "ExecuteTime": {
     "end_time": "2024-05-14T10:46:03.799697Z",
     "start_time": "2024-05-14T10:46:03.731770Z"
    }
   },
   "cell_type": "code",
   "source": [
    "%matplotlib\n",
    "dropdown1 = widgets.SelectMultiple(\n",
    "                        options=df.index.get_level_values(0).drop_duplicates(),\n",
    "                        description='Timestamp',\n",
    "                        disabled=False,\n",
    "                        layout={'height':'100px', 'width':'40%'})\n",
    "dropdown2 = widgets.SelectMultiple(\n",
    "                        options=df.index.get_level_values(1).drop_duplicates(),\n",
    "                        description='Msg hash',\n",
    "                        disabled=False,\n",
    "                        layout={'height':'100px', 'width':'40%'})\n",
    "    \n",
    "fig = plt.figure()\n",
    "ax_ = fig.add_subplot(1, 1, 1)\n",
    "def test(x, y, data_):\n",
    "    ax_.cla()\n",
    "    first_timestamp = data_.index.get_level_values(0)[0]\n",
    "    df_ = data_.loc[(first_timestamp,y[0]):(x[0], y[0])]\n",
    "    df_.reset_index(inplace=True)\n",
    "    G = nx.from_pandas_edgelist(df_, 'sender_peer_id', 'receiver_peer_id', edge_attr=['timestamp', 'msg_hash'], create_using=nx.DiGraph)\n",
    "    timestamp_edges = nx.get_edge_attributes(G, 'timestamp')\n",
    "    hash_edges = nx.get_edge_attributes(G, 'msg_hash')\n",
    "    ds = [timestamp_edges, hash_edges]\n",
    "    d = {}\n",
    "    for k in timestamp_edges.keys():\n",
    "        d[k] = tuple(d[k] for d in ds)\n",
    "    pos = nx.spring_layout(G)\n",
    "    nx.draw(G, pos, ax=ax_, with_labels=True)\n",
    "    nx.draw_networkx_edge_labels(G, pos, ax=ax_, edge_labels=d)\n",
    "    plt.show()\n",
    "\n",
    "\n",
    "i_plot = widgets.interactive(test, x=dropdown1, y=dropdown2, data_=widgets.fixed(df))\n",
    "i_plot"
   ],
   "id": "7ee8ea300bb03c4",
   "outputs": [
    {
     "name": "stdout",
     "output_type": "stream",
     "text": [
      "Using matplotlib backend: QtAgg\n"
     ]
    },
    {
     "data": {
      "text/plain": [
       "interactive(children=(SelectMultiple(description='Timestamp', layout=Layout(height='100px', width='40%'), opti…"
      ],
      "application/vnd.jupyter.widget-view+json": {
       "version_major": 2,
       "version_minor": 0,
       "model_id": "5c6373f235cf4ad7a3dc6740e1c5b00f"
      }
     },
     "execution_count": 59,
     "metadata": {},
     "output_type": "execute_result"
    }
   ],
   "execution_count": 59
  },
  {
   "metadata": {
    "ExecuteTime": {
     "end_time": "2024-05-14T10:45:27.705770Z",
     "start_time": "2024-05-14T10:45:27.701926Z"
    }
   },
   "cell_type": "code",
   "source": "",
   "id": "c2c592bd27f4943f",
   "outputs": [
    {
     "data": {
      "text/plain": [
       "'2024-04-22 14:06:58.001+00:00'"
      ]
     },
     "execution_count": 58,
     "metadata": {},
     "output_type": "execute_result"
    }
   ],
   "execution_count": 58
  }
 ],
 "metadata": {
  "kernelspec": {
   "display_name": "Python 3",
   "language": "python",
   "name": "python3"
  },
  "language_info": {
   "codemirror_mode": {
    "name": "ipython",
    "version": 2
   },
   "file_extension": ".py",
   "mimetype": "text/x-python",
   "name": "python",
   "nbconvert_exporter": "python",
   "pygments_lexer": "ipython2",
   "version": "2.7.6"
  }
 },
 "nbformat": 4,
 "nbformat_minor": 5
}
