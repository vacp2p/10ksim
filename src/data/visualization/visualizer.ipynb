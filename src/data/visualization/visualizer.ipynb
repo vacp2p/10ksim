{
 "cells": [
  {
   "metadata": {
    "ExecuteTime": {
     "end_time": "2024-05-15T15:07:33.593324Z",
     "start_time": "2024-05-15T15:07:32.782635Z"
    }
   },
   "cell_type": "code",
   "source": [
    "# Python Imports\n",
    "import ipywidgets as widgets\n",
    "import networkx as nx\n",
    "import matplotlib\n",
    "matplotlib.use('Qt5Agg')\n",
    "import matplotlib.pyplot as plt\n",
    "\n",
    "# Project Imports\n",
    "from src.mesh_analysis.readers.file_reader import FileReader\n",
    "from src.mesh_analysis.tracers.waku_tracer import WakuTracer"
   ],
   "id": "b364992afb5a097b",
   "outputs": [],
   "execution_count": 2
  },
  {
   "metadata": {
    "ExecuteTime": {
     "end_time": "2024-05-15T15:29:55.299563Z",
     "start_time": "2024-05-15T15:29:54.830756Z"
    }
   },
   "cell_type": "code",
   "source": [
    "tracer = WakuTracer()\n",
    "reader = FileReader(\"../../../test/log_test/\", tracer)\n",
    "\n",
    "df = reader.read()\n",
    "test = df.reset_index()"
   ],
   "id": "initial_id",
   "outputs": [],
   "execution_count": 14
  },
  {
   "metadata": {},
   "cell_type": "markdown",
   "source": "",
   "id": "20263a2b18ec67ab"
  },
  {
   "metadata": {
    "ExecuteTime": {
     "end_time": "2024-05-15T14:09:33.536076Z",
     "start_time": "2024-05-15T14:09:33.081791Z"
    }
   },
   "cell_type": "code",
   "source": [
    "%matplotlib\n",
    "dropdown1 = widgets.SelectMultiple(\n",
    "                        options=df.index.get_level_values(0).drop_duplicates(),\n",
    "                        description='Timestamp',\n",
    "                        disabled=False,\n",
    "                        layout={'height':'100px', 'width':'40%'})\n",
    "dropdown2 = widgets.SelectMultiple(\n",
    "                        options=df.index.get_level_values(1).drop_duplicates(),\n",
    "                        description='Msg hash',\n",
    "                        disabled=False,\n",
    "                        layout={'height':'100px', 'width':'40%'})\n",
    "    \n",
    "fig = plt.figure()\n",
    "ax_ = fig.add_subplot(1, 1, 1)\n",
    "def test(x, y, data_):\n",
    "    ax_.cla()\n",
    "    \n",
    "    first_timestamp = data_.index.get_level_values(0)[0]\n",
    "    df_ = data_.loc[(first_timestamp,y[0]):(x[0], y[0])]\n",
    "    df_.reset_index(inplace=True)\n",
    "    G = nx.from_pandas_edgelist(df_, 'sender_peer_id', 'receiver_peer_id', edge_attr=['timestamp', 'msg_hash'], create_using=nx.DiGraph)\n",
    "    \n",
    "    timestamp_edges = nx.get_edge_attributes(G, 'timestamp')\n",
    "    hash_edges = nx.get_edge_attributes(G, 'msg_hash')\n",
    "    ds = [timestamp_edges, hash_edges]\n",
    "    d = {}\n",
    "    for k in timestamp_edges.keys():\n",
    "        d[k] = tuple(d[k] for d in ds)\n",
    "    pos = nx.spring_layout(G)\n",
    "    nx.draw(G, pos, ax=ax_, with_labels=True)\n",
    "    nx.draw_networkx_edge_labels(G, pos, ax=ax_, edge_labels=d)\n",
    "    plt.show()\n",
    "\n",
    "\n",
    "i_plot = widgets.interactive(test, x=dropdown1, y=dropdown2, data_=widgets.fixed(df))\n",
    "i_plot"
   ],
   "id": "7ee8ea300bb03c4",
   "outputs": [
    {
     "name": "stdout",
     "output_type": "stream",
     "text": [
      "Using matplotlib backend: QtAgg\n"
     ]
    },
    {
     "data": {
      "text/plain": [
       "interactive(children=(SelectMultiple(description='Timestamp', layout=Layout(height='100px', width='40%'), opti…"
      ],
      "application/vnd.jupyter.widget-view+json": {
       "version_major": 2,
       "version_minor": 0,
       "model_id": "7692ce6df7ef47369fe30effe8d5ecd5"
      }
     },
     "execution_count": 6,
     "metadata": {},
     "output_type": "execute_result"
    }
   ],
   "execution_count": 6
  },
  {
   "metadata": {
    "ExecuteTime": {
     "end_time": "2024-05-14T11:01:14.508434Z",
     "start_time": "2024-05-14T11:01:14.502823Z"
    }
   },
   "cell_type": "code",
   "source": [
    "print(df)\n",
    "data_ = df[df.index.get_level_values(1) == '0x1']"
   ],
   "id": "c2c592bd27f4943f",
   "outputs": [
    {
     "name": "stdout",
     "output_type": "stream",
     "text": [
      "                                       sender_peer_id receiver_peer_id\n",
      "timestamp                     msg_hash                                \n",
      "2024-04-22 14:06:58.001+00:00 0x1                   A                B\n",
      "2024-04-22 14:06:58.002+00:00 0x1                   B                D\n",
      "2024-04-22 14:06:58.003+00:00 0x1                   A                C\n",
      "                              0x1                   D                E\n",
      "2024-04-22 14:06:58.006+00:00 0x1                   A                F\n",
      "2024-04-22 14:06:59.001+00:00 0x1                   A                B\n"
     ]
    }
   ],
   "execution_count": 70
  },
  {
   "metadata": {
    "ExecuteTime": {
     "end_time": "2024-05-15T15:45:05.733415Z",
     "start_time": "2024-05-15T15:44:55.057111Z"
    }
   },
   "cell_type": "code",
   "source": [
    "fig = plt.figure()\n",
    "ax_ = fig.add_subplot(1, 1, 1)\n",
    "# 1. \n",
    "data_ = df[df.index.get_level_values(1) == '0x1']\n",
    "data_prepared = data_.reset_index()\n",
    "# 2. \n",
    "complete_graph = nx.from_pandas_edgelist(data_prepared, 'sender_peer_id', 'receiver_peer_id', edge_attr=['timestamp', 'msg_hash'], create_using=nx.DiGraph)\n",
    "g_pos_layout = nx.kamada_kawai_layout(complete_graph)\n",
    "e_pos_layout = nx.draw_networkx_edge_labels(complete_graph, g_pos_layout, ax=ax_)\n",
    "plt.cla()\n",
    "\n",
    "# 3. \n",
    "first_timestamp = data_.index.get_level_values(0)[0]\n",
    "df_ = data_.loc[(first_timestamp,'0x1'):('2024-04-22 14:06:58.003+00:00', '0x1')]\n",
    "df_.reset_index(inplace=True)\n",
    "selected_graph = nx.from_pandas_edgelist(df_, 'sender_peer_id', 'receiver_peer_id', edge_attr=['timestamp', 'msg_hash'], create_using=nx.DiGraph)\n",
    "\n",
    "# 4. \n",
    "g_pos_layout_selected = {key: g_pos_layout[key] for key in list(selected_graph.nodes)}\n",
    "e_pos_layout_selected = {key: e_pos_layout[key] for key in selected_graph.edges}\n",
    "\n",
    "nx.draw(selected_graph, g_pos_layout_selected, ax=ax_, with_labels=True)\n",
    "nx.draw_networkx_edge_labels(selected_graph, g_pos_layout_selected, ax=ax_)\n",
    "plt.show()\n"
   ],
   "id": "17099625b2bd7df6",
   "outputs": [],
   "execution_count": 23
  },
  {
   "metadata": {},
   "cell_type": "code",
   "outputs": [],
   "execution_count": null,
   "source": [
    "# g_pos_layout, dict:\n",
    "# 'A' : [0.68431856 0.16921637], etc\n",
    "# e_pos_layout, dict\n",
    "# ('A', 'B'): [Pos]\n",
    "\n",
    "\n",
    "\n"
   ],
   "id": "241ddf7483395040"
  }
 ],
 "metadata": {
  "kernelspec": {
   "display_name": "Python 3",
   "language": "python",
   "name": "python3"
  },
  "language_info": {
   "codemirror_mode": {
    "name": "ipython",
    "version": 2
   },
   "file_extension": ".py",
   "mimetype": "text/x-python",
   "name": "python",
   "nbconvert_exporter": "python",
   "pygments_lexer": "ipython2",
   "version": "2.7.6"
  }
 },
 "nbformat": 4,
 "nbformat_minor": 5
}
