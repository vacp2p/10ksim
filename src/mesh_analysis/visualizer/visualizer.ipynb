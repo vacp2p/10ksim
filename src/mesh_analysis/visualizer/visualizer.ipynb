{
 "cells": [
  {
   "metadata": {
    "ExecuteTime": {
     "end_time": "2024-05-17T09:04:00.216397Z",
     "start_time": "2024-05-17T09:03:59.471596Z"
    }
   },
   "cell_type": "code",
   "source": [
    "# Python Imports\n",
    "import ipywidgets as widgets\n",
    "import networkx as nx\n",
    "import matplotlib\n",
    "from datetime import timedelta\n",
    "matplotlib.use('Qt5Agg')\n",
    "import matplotlib.pyplot as plt\n",
    "\n",
    "# Project Imports\n",
    "from src.mesh_analysis.readers.file_reader import FileReader\n",
    "from src.mesh_analysis.tracers.waku_tracer import WakuTracer"
   ],
   "id": "b364992afb5a097b",
   "outputs": [],
   "execution_count": 1
  },
  {
   "metadata": {
    "ExecuteTime": {
     "end_time": "2024-05-17T09:04:01.158843Z",
     "start_time": "2024-05-17T09:04:00.608047Z"
    }
   },
   "cell_type": "code",
   "source": [
    "from src.mesh_analysis.visualizer.waku_visualizer import add_elapsed_time\n",
    "\n",
    "tracer = WakuTracer()\n",
    "reader = FileReader(\"../../../test/log_test/\", tracer)\n",
    "\n",
    "df = reader.read()\n",
    "df = add_elapsed_time(df)"
   ],
   "id": "initial_id",
   "outputs": [],
   "execution_count": 2
  },
  {
   "metadata": {
    "ExecuteTime": {
     "end_time": "2024-05-17T09:04:01.746976Z",
     "start_time": "2024-05-17T09:04:01.735570Z"
    }
   },
   "cell_type": "code",
   "source": "df",
   "id": "43e4f1618d751b7d",
   "outputs": [
    {
     "data": {
      "text/plain": [
       "                                          sender_peer_id receiver_peer_id  \\\n",
       "timestamp                        msg_hash                                   \n",
       "2024-04-22 14:06:58.001000+00:00 0x1                   A                B   \n",
       "2024-04-22 14:06:58.002000+00:00 0x1                   B                D   \n",
       "2024-04-22 14:06:58.003000+00:00 0x1                   A                C   \n",
       "                                 0x1                   D                E   \n",
       "2024-04-22 14:06:58.006000+00:00 0x1                   A                F   \n",
       "2024-04-22 14:06:59.001000+00:00 0x2                   A                B   \n",
       "\n",
       "                                           elapsed_time  \n",
       "timestamp                        msg_hash                \n",
       "2024-04-22 14:06:58.001000+00:00 0x1                  0  \n",
       "2024-04-22 14:06:58.002000+00:00 0x1                  1  \n",
       "2024-04-22 14:06:58.003000+00:00 0x1                  2  \n",
       "                                 0x1                  2  \n",
       "2024-04-22 14:06:58.006000+00:00 0x1                  5  \n",
       "2024-04-22 14:06:59.001000+00:00 0x2                  0  "
      ],
      "text/html": [
       "<div>\n",
       "<style scoped>\n",
       "    .dataframe tbody tr th:only-of-type {\n",
       "        vertical-align: middle;\n",
       "    }\n",
       "\n",
       "    .dataframe tbody tr th {\n",
       "        vertical-align: top;\n",
       "    }\n",
       "\n",
       "    .dataframe thead th {\n",
       "        text-align: right;\n",
       "    }\n",
       "</style>\n",
       "<table border=\"1\" class=\"dataframe\">\n",
       "  <thead>\n",
       "    <tr style=\"text-align: right;\">\n",
       "      <th></th>\n",
       "      <th></th>\n",
       "      <th>sender_peer_id</th>\n",
       "      <th>receiver_peer_id</th>\n",
       "      <th>elapsed_time</th>\n",
       "    </tr>\n",
       "    <tr>\n",
       "      <th>timestamp</th>\n",
       "      <th>msg_hash</th>\n",
       "      <th></th>\n",
       "      <th></th>\n",
       "      <th></th>\n",
       "    </tr>\n",
       "  </thead>\n",
       "  <tbody>\n",
       "    <tr>\n",
       "      <th>2024-04-22 14:06:58.001000+00:00</th>\n",
       "      <th>0x1</th>\n",
       "      <td>A</td>\n",
       "      <td>B</td>\n",
       "      <td>0</td>\n",
       "    </tr>\n",
       "    <tr>\n",
       "      <th>2024-04-22 14:06:58.002000+00:00</th>\n",
       "      <th>0x1</th>\n",
       "      <td>B</td>\n",
       "      <td>D</td>\n",
       "      <td>1</td>\n",
       "    </tr>\n",
       "    <tr>\n",
       "      <th rowspan=\"2\" valign=\"top\">2024-04-22 14:06:58.003000+00:00</th>\n",
       "      <th>0x1</th>\n",
       "      <td>A</td>\n",
       "      <td>C</td>\n",
       "      <td>2</td>\n",
       "    </tr>\n",
       "    <tr>\n",
       "      <th>0x1</th>\n",
       "      <td>D</td>\n",
       "      <td>E</td>\n",
       "      <td>2</td>\n",
       "    </tr>\n",
       "    <tr>\n",
       "      <th>2024-04-22 14:06:58.006000+00:00</th>\n",
       "      <th>0x1</th>\n",
       "      <td>A</td>\n",
       "      <td>F</td>\n",
       "      <td>5</td>\n",
       "    </tr>\n",
       "    <tr>\n",
       "      <th>2024-04-22 14:06:59.001000+00:00</th>\n",
       "      <th>0x2</th>\n",
       "      <td>A</td>\n",
       "      <td>B</td>\n",
       "      <td>0</td>\n",
       "    </tr>\n",
       "  </tbody>\n",
       "</table>\n",
       "</div>"
      ]
     },
     "execution_count": 3,
     "metadata": {},
     "output_type": "execute_result"
    }
   ],
   "execution_count": 3
  },
  {
   "metadata": {},
   "cell_type": "markdown",
   "source": "",
   "id": "20263a2b18ec67ab"
  },
  {
   "metadata": {
    "ExecuteTime": {
     "end_time": "2024-05-17T08:54:51.119320Z",
     "start_time": "2024-05-17T08:54:48.162785Z"
    }
   },
   "cell_type": "code",
   "source": [
    "%matplotlib\n",
    "dropdown1 = widgets.SelectMultiple(\n",
    "                        options=df.index.get_level_values(0).drop_duplicates(),\n",
    "                        description='Timestamp',\n",
    "                        disabled=False,\n",
    "                        layout={'height':'100px', 'width':'100%'})\n",
    "# todo: modify dropdown2 depending on 1\n",
    "dropdown2 = widgets.SelectMultiple(\n",
    "                        options=df.index.get_level_values(1).drop_duplicates(),\n",
    "                        description='Msg hash',\n",
    "                        disabled=False,\n",
    "                        layout={'height':'100px', 'width':'100%'}) \n",
    "    \n",
    "fig = plt.figure(figsize=(10,10))\n",
    "\n",
    "ax_ = fig.add_subplot(1, 1, 1)\n",
    "ax_.set_xlim(-3, 3)\n",
    "ax_.set_ylim(-3, 3)\n",
    "\n",
    "data_prepared = df.reset_index()\n",
    "complete_graph = nx.from_pandas_edgelist(data_prepared, 'sender_peer_id', 'receiver_peer_id', edge_attr=['timestamp', 'msg_hash', 'elapsed'], create_using=nx.DiGraph)\n",
    "g_pos_layout = nx.kamada_kawai_layout(complete_graph)\n",
    "\n",
    "\n",
    "def test(y, x, data_):\n",
    "    # todo maintain limits?\n",
    "    ax_.clear()\n",
    "    ax_.set_xlim(-2, 2)\n",
    "    ax_.set_ylim(-2, 2)\n",
    "    # 1.\n",
    "    data_ = data_[data_.index.get_level_values(1) == y[0]]\n",
    "\n",
    "    # 3. \n",
    "    first_timestamp = data_.index.get_level_values(0)[0]\n",
    "    print(f\"first timestamp: {first_timestamp}\")\n",
    "    print(f\"selected timestamp: {y[0]}\")\n",
    "    \n",
    "    df_ = data_.loc[(first_timestamp,y[0]):(x[0], y[0])]\n",
    "    df_.reset_index(inplace=True)\n",
    "    \n",
    "    print(f\"selected df \\n {df_}\")\n",
    "    selected_graph = nx.from_pandas_edgelist(df_, 'sender_peer_id', 'receiver_peer_id', edge_attr=['timestamp', 'msg_hash', 'elapsed'], create_using=nx.DiGraph)\n",
    "    \n",
    "    # 4. \n",
    "    g_pos_layout_selected = {key: g_pos_layout[key] for key in list(selected_graph.nodes)}\n",
    "    print(f\"node positions {g_pos_layout_selected}\")\n",
    "    nx.draw(selected_graph, g_pos_layout_selected, ax=ax_, with_labels=True)\n",
    "    edge_labels = {} \n",
    "    for u, v, data in selected_graph.edges(data=True):\n",
    "        edge_labels[u, v] = f\"{data['elapsed']}ms\"\n",
    "    print(f\"edge labels {edge_labels}\")\n",
    "    nx.draw_networkx_edge_labels(selected_graph, g_pos_layout_selected, edge_labels=edge_labels, ax=ax_)\n",
    "    plt.show()\n",
    "\n",
    "\n",
    "i_plot = widgets.interactive(test, x=dropdown1, y=dropdown2, data_=widgets.fixed(df))\n",
    "i_plot\n"
   ],
   "id": "115666e06e1945d6",
   "outputs": [
    {
     "name": "stdout",
     "output_type": "stream",
     "text": [
      "Using matplotlib backend: QtAgg\n"
     ]
    },
    {
     "data": {
      "text/plain": [
       "interactive(children=(SelectMultiple(description='Msg hash', layout=Layout(height='100px', width='100%'), opti…"
      ],
      "application/vnd.jupyter.widget-view+json": {
       "version_major": 2,
       "version_minor": 0,
       "model_id": "5dcc9576b80e46fd8b11773e34b0c153"
      }
     },
     "execution_count": 4,
     "metadata": {},
     "output_type": "execute_result"
    }
   ],
   "execution_count": 4
  },
  {
   "metadata": {},
   "cell_type": "code",
   "outputs": [],
   "execution_count": null,
   "source": "",
   "id": "4cf4ab3406d82296"
  }
 ],
 "metadata": {
  "kernelspec": {
   "display_name": "Python 3",
   "language": "python",
   "name": "python3"
  },
  "language_info": {
   "codemirror_mode": {
    "name": "ipython",
    "version": 2
   },
   "file_extension": ".py",
   "mimetype": "text/x-python",
   "name": "python",
   "nbconvert_exporter": "python",
   "pygments_lexer": "ipython2",
   "version": "2.7.6"
  }
 },
 "nbformat": 4,
 "nbformat_minor": 5
}
