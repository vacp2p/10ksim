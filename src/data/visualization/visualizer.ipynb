{
 "cells": [
  {
   "metadata": {
    "ExecuteTime": {
     "end_time": "2024-05-16T10:50:37.429035Z",
     "start_time": "2024-05-16T10:50:37.425032Z"
    }
   },
   "cell_type": "code",
   "source": [
    "# Python Imports\n",
    "import ipywidgets as widgets\n",
    "import networkx as nx\n",
    "import matplotlib\n",
    "import pandas as pd\n",
    "import numpy as np\n",
    "from datetime import timedelta\n",
    "\n",
    "matplotlib.use('Qt5Agg')\n",
    "import matplotlib.pyplot as plt\n",
    "\n",
    "# Project Imports\n",
    "from src.mesh_analysis.readers.file_reader import FileReader\n",
    "from src.mesh_analysis.tracers.waku_tracer import WakuTracer"
   ],
   "id": "b364992afb5a097b",
   "outputs": [],
   "execution_count": 60
  },
  {
   "metadata": {
    "ExecuteTime": {
     "end_time": "2024-05-16T11:13:18.846353Z",
     "start_time": "2024-05-16T11:13:18.337892Z"
    }
   },
   "cell_type": "code",
   "source": [
    "tracer = WakuTracer()\n",
    "reader = FileReader(\"../../../test/log_test/\", tracer)\n",
    "\n",
    "# todo, timestamp index is string??\n",
    "df = reader.read()\n",
    "new_index = pd.to_datetime(df.index.get_level_values('timestamp'))\n",
    "df.index = pd.MultiIndex.from_arrays([new_index, df.index.get_level_values('msg_hash')], names=['timestamp', 'msg_hash'])\n",
    "first_timestamp = df.index.get_level_values('timestamp').min()\n",
    "df['elapsed'] = df.index.get_level_values('timestamp') - first_timestamp\n",
    "df['elapsed'] = df['elapsed'] // timedelta(milliseconds=1)\n",
    "df"
   ],
   "id": "initial_id",
   "outputs": [
    {
     "data": {
      "text/plain": [
       "                                          sender_peer_id receiver_peer_id  \\\n",
       "timestamp                        msg_hash                                   \n",
       "2024-04-22 14:06:58.001000+00:00 0x1                   A                B   \n",
       "2024-04-22 14:06:58.002000+00:00 0x1                   B                D   \n",
       "2024-04-22 14:06:58.003000+00:00 0x1                   A                C   \n",
       "                                 0x1                   D                E   \n",
       "2024-04-22 14:06:58.006000+00:00 0x1                   A                F   \n",
       "2024-04-22 14:06:59.001000+00:00 0x2                   A                B   \n",
       "\n",
       "                                           elapsed  \n",
       "timestamp                        msg_hash           \n",
       "2024-04-22 14:06:58.001000+00:00 0x1             0  \n",
       "2024-04-22 14:06:58.002000+00:00 0x1             1  \n",
       "2024-04-22 14:06:58.003000+00:00 0x1             2  \n",
       "                                 0x1             2  \n",
       "2024-04-22 14:06:58.006000+00:00 0x1             5  \n",
       "2024-04-22 14:06:59.001000+00:00 0x2          1000  "
      ],
      "text/html": [
       "<div>\n",
       "<style scoped>\n",
       "    .dataframe tbody tr th:only-of-type {\n",
       "        vertical-align: middle;\n",
       "    }\n",
       "\n",
       "    .dataframe tbody tr th {\n",
       "        vertical-align: top;\n",
       "    }\n",
       "\n",
       "    .dataframe thead th {\n",
       "        text-align: right;\n",
       "    }\n",
       "</style>\n",
       "<table border=\"1\" class=\"dataframe\">\n",
       "  <thead>\n",
       "    <tr style=\"text-align: right;\">\n",
       "      <th></th>\n",
       "      <th></th>\n",
       "      <th>sender_peer_id</th>\n",
       "      <th>receiver_peer_id</th>\n",
       "      <th>elapsed</th>\n",
       "    </tr>\n",
       "    <tr>\n",
       "      <th>timestamp</th>\n",
       "      <th>msg_hash</th>\n",
       "      <th></th>\n",
       "      <th></th>\n",
       "      <th></th>\n",
       "    </tr>\n",
       "  </thead>\n",
       "  <tbody>\n",
       "    <tr>\n",
       "      <th>2024-04-22 14:06:58.001000+00:00</th>\n",
       "      <th>0x1</th>\n",
       "      <td>A</td>\n",
       "      <td>B</td>\n",
       "      <td>0</td>\n",
       "    </tr>\n",
       "    <tr>\n",
       "      <th>2024-04-22 14:06:58.002000+00:00</th>\n",
       "      <th>0x1</th>\n",
       "      <td>B</td>\n",
       "      <td>D</td>\n",
       "      <td>1</td>\n",
       "    </tr>\n",
       "    <tr>\n",
       "      <th rowspan=\"2\" valign=\"top\">2024-04-22 14:06:58.003000+00:00</th>\n",
       "      <th>0x1</th>\n",
       "      <td>A</td>\n",
       "      <td>C</td>\n",
       "      <td>2</td>\n",
       "    </tr>\n",
       "    <tr>\n",
       "      <th>0x1</th>\n",
       "      <td>D</td>\n",
       "      <td>E</td>\n",
       "      <td>2</td>\n",
       "    </tr>\n",
       "    <tr>\n",
       "      <th>2024-04-22 14:06:58.006000+00:00</th>\n",
       "      <th>0x1</th>\n",
       "      <td>A</td>\n",
       "      <td>F</td>\n",
       "      <td>5</td>\n",
       "    </tr>\n",
       "    <tr>\n",
       "      <th>2024-04-22 14:06:59.001000+00:00</th>\n",
       "      <th>0x2</th>\n",
       "      <td>A</td>\n",
       "      <td>B</td>\n",
       "      <td>1000</td>\n",
       "    </tr>\n",
       "  </tbody>\n",
       "</table>\n",
       "</div>"
      ]
     },
     "execution_count": 84,
     "metadata": {},
     "output_type": "execute_result"
    }
   ],
   "execution_count": 84
  },
  {
   "metadata": {
    "ExecuteTime": {
     "end_time": "2024-05-16T10:57:34.522288Z",
     "start_time": "2024-05-16T10:57:34.517078Z"
    }
   },
   "cell_type": "code",
   "source": "df",
   "id": "43e4f1618d751b7d",
   "outputs": [
    {
     "data": {
      "text/plain": [
       "                                       sender_peer_id receiver_peer_id\n",
       "timestamp                     msg_hash                                \n",
       "2024-04-22 14:06:58.001+00:00 0x1                   A                B\n",
       "2024-04-22 14:06:58.002+00:00 0x1                   B                D\n",
       "2024-04-22 14:06:58.003+00:00 0x1                   A                C\n",
       "                              0x1                   D                E\n",
       "2024-04-22 14:06:58.006+00:00 0x1                   A                F\n",
       "2024-04-22 14:06:59.001+00:00 0x2                   A                B"
      ],
      "text/html": [
       "<div>\n",
       "<style scoped>\n",
       "    .dataframe tbody tr th:only-of-type {\n",
       "        vertical-align: middle;\n",
       "    }\n",
       "\n",
       "    .dataframe tbody tr th {\n",
       "        vertical-align: top;\n",
       "    }\n",
       "\n",
       "    .dataframe thead th {\n",
       "        text-align: right;\n",
       "    }\n",
       "</style>\n",
       "<table border=\"1\" class=\"dataframe\">\n",
       "  <thead>\n",
       "    <tr style=\"text-align: right;\">\n",
       "      <th></th>\n",
       "      <th></th>\n",
       "      <th>sender_peer_id</th>\n",
       "      <th>receiver_peer_id</th>\n",
       "    </tr>\n",
       "    <tr>\n",
       "      <th>timestamp</th>\n",
       "      <th>msg_hash</th>\n",
       "      <th></th>\n",
       "      <th></th>\n",
       "    </tr>\n",
       "  </thead>\n",
       "  <tbody>\n",
       "    <tr>\n",
       "      <th>2024-04-22 14:06:58.001+00:00</th>\n",
       "      <th>0x1</th>\n",
       "      <td>A</td>\n",
       "      <td>B</td>\n",
       "    </tr>\n",
       "    <tr>\n",
       "      <th>2024-04-22 14:06:58.002+00:00</th>\n",
       "      <th>0x1</th>\n",
       "      <td>B</td>\n",
       "      <td>D</td>\n",
       "    </tr>\n",
       "    <tr>\n",
       "      <th rowspan=\"2\" valign=\"top\">2024-04-22 14:06:58.003+00:00</th>\n",
       "      <th>0x1</th>\n",
       "      <td>A</td>\n",
       "      <td>C</td>\n",
       "    </tr>\n",
       "    <tr>\n",
       "      <th>0x1</th>\n",
       "      <td>D</td>\n",
       "      <td>E</td>\n",
       "    </tr>\n",
       "    <tr>\n",
       "      <th>2024-04-22 14:06:58.006+00:00</th>\n",
       "      <th>0x1</th>\n",
       "      <td>A</td>\n",
       "      <td>F</td>\n",
       "    </tr>\n",
       "    <tr>\n",
       "      <th>2024-04-22 14:06:59.001+00:00</th>\n",
       "      <th>0x2</th>\n",
       "      <td>A</td>\n",
       "      <td>B</td>\n",
       "    </tr>\n",
       "  </tbody>\n",
       "</table>\n",
       "</div>"
      ]
     },
     "execution_count": 69,
     "metadata": {},
     "output_type": "execute_result"
    }
   ],
   "execution_count": 69
  },
  {
   "metadata": {},
   "cell_type": "markdown",
   "source": "",
   "id": "20263a2b18ec67ab"
  },
  {
   "metadata": {
    "ExecuteTime": {
     "end_time": "2024-05-16T14:23:10.724755Z",
     "start_time": "2024-05-16T14:23:10.663070Z"
    }
   },
   "cell_type": "code",
   "source": [
    "%matplotlib\n",
    "dropdown1 = widgets.SelectMultiple(\n",
    "                        options=df.index.get_level_values(0).drop_duplicates(),\n",
    "                        description='Timestamp',\n",
    "                        disabled=False,\n",
    "                        layout={'height':'100px', 'width':'40%'})\n",
    "# todo: modify dropdown2 depending on 1\n",
    "dropdown2 = widgets.SelectMultiple(\n",
    "                        options=df.index.get_level_values(1).drop_duplicates(),\n",
    "                        description='Msg hash',\n",
    "                        disabled=False,\n",
    "                        layout={'height':'100px', 'width':'40%'}) \n",
    "    \n",
    "fig = plt.figure(figsize=(10,10))\n",
    "\n",
    "ax_ = fig.add_subplot(1, 1, 1)\n",
    "ax_.set_xlim(-3, 3)\n",
    "ax_.set_ylim(-3, 3)\n",
    "\n",
    "data_prepared = df.reset_index() \n",
    "complete_graph = nx.from_pandas_edgelist(data_prepared, 'sender_peer_id', 'receiver_peer_id', edge_attr=['timestamp', 'msg_hash', 'elapsed'], create_using=nx.DiGraph)\n",
    "g_pos_layout = nx.kamada_kawai_layout(complete_graph)\n",
    "\n",
    "\n",
    "def test(x, y, data_):\n",
    "    # todo maintain limits?\n",
    "    ax_.clear()\n",
    "    ax_.set_xlim(-2, 2)\n",
    "    ax_.set_ylim(-2, 2)\n",
    "    # 1.\n",
    "    data_ = data_[data_.index.get_level_values(1) == y[0]]\n",
    "\n",
    "    # 3. \n",
    "    first_timestamp = data_.index.get_level_values(0)[0]\n",
    "    print(f\"first timestamp: {first_timestamp}\")\n",
    "    print(f\"selected timestamp: {y[0]}\")\n",
    "    \n",
    "    df_ = data_.loc[(first_timestamp,y[0]):(x[0], y[0])]\n",
    "    df_.reset_index(inplace=True)\n",
    "    \n",
    "    print(f\"selected df \\n {df_}\")\n",
    "    selected_graph = nx.from_pandas_edgelist(df_, 'sender_peer_id', 'receiver_peer_id', edge_attr=['timestamp', 'msg_hash', 'elapsed'], create_using=nx.DiGraph)\n",
    "    \n",
    "    # 4. \n",
    "    g_pos_layout_selected = {key: g_pos_layout[key] for key in list(selected_graph.nodes)}\n",
    "    print(f\"node positions {g_pos_layout_selected}\")\n",
    "    nx.draw(selected_graph, g_pos_layout_selected, ax=ax_, with_labels=True)\n",
    "    edge_labels = {} \n",
    "    for u, v, data in selected_graph.edges(data=True):\n",
    "        edge_labels[u, v] = f\"{data['elapsed']}ms,{data['msg_hash']}\"\n",
    "    print(f\"edge labels {edge_labels}\")\n",
    "    nx.draw_networkx_edge_labels(selected_graph, g_pos_layout_selected, edge_labels=edge_labels, ax=ax_)\n",
    "    plt.show()\n",
    "\n",
    "\n",
    "i_plot = widgets.interactive(test, x=dropdown1, y=dropdown2, data_=widgets.fixed(df))\n",
    "i_plot\n",
    "\n",
    "# Mirar por que coño el elapsed time sale como timestamp en el plot."
   ],
   "id": "115666e06e1945d6",
   "outputs": [
    {
     "name": "stdout",
     "output_type": "stream",
     "text": [
      "Using matplotlib backend: QtAgg\n"
     ]
    },
    {
     "ename": "AttributeError",
     "evalue": "'MainWindow' object has no attribute 'attributes'",
     "output_type": "error",
     "traceback": [
      "\u001B[1;31m---------------------------------------------------------------------------\u001B[0m",
      "\u001B[1;31mAttributeError\u001B[0m                            Traceback (most recent call last)",
      "Cell \u001B[1;32mIn[93], line 15\u001B[0m\n\u001B[0;32m      8\u001B[0m dropdown2 \u001B[38;5;241m=\u001B[39m widgets\u001B[38;5;241m.\u001B[39mSelectMultiple(\n\u001B[0;32m      9\u001B[0m                         options\u001B[38;5;241m=\u001B[39mdf\u001B[38;5;241m.\u001B[39mindex\u001B[38;5;241m.\u001B[39mget_level_values(\u001B[38;5;241m1\u001B[39m)\u001B[38;5;241m.\u001B[39mdrop_duplicates(),\n\u001B[0;32m     10\u001B[0m                         description\u001B[38;5;241m=\u001B[39m\u001B[38;5;124m'\u001B[39m\u001B[38;5;124mMsg hash\u001B[39m\u001B[38;5;124m'\u001B[39m,\n\u001B[0;32m     11\u001B[0m                         disabled\u001B[38;5;241m=\u001B[39m\u001B[38;5;28;01mFalse\u001B[39;00m,\n\u001B[0;32m     12\u001B[0m                         layout\u001B[38;5;241m=\u001B[39m{\u001B[38;5;124m'\u001B[39m\u001B[38;5;124mheight\u001B[39m\u001B[38;5;124m'\u001B[39m:\u001B[38;5;124m'\u001B[39m\u001B[38;5;124m100px\u001B[39m\u001B[38;5;124m'\u001B[39m, \u001B[38;5;124m'\u001B[39m\u001B[38;5;124mwidth\u001B[39m\u001B[38;5;124m'\u001B[39m:\u001B[38;5;124m'\u001B[39m\u001B[38;5;124m40\u001B[39m\u001B[38;5;124m%\u001B[39m\u001B[38;5;124m'\u001B[39m}) \n\u001B[0;32m     14\u001B[0m fig \u001B[38;5;241m=\u001B[39m plt\u001B[38;5;241m.\u001B[39mfigure(figsize\u001B[38;5;241m=\u001B[39m(\u001B[38;5;241m10\u001B[39m,\u001B[38;5;241m10\u001B[39m))\n\u001B[1;32m---> 15\u001B[0m \u001B[43mfig\u001B[49m\u001B[38;5;241;43m.\u001B[39;49m\u001B[43mcanvas\u001B[49m\u001B[38;5;241;43m.\u001B[39;49m\u001B[43mmanager\u001B[49m\u001B[38;5;241;43m.\u001B[39;49m\u001B[43mwindow\u001B[49m\u001B[38;5;241;43m.\u001B[39;49m\u001B[43mattributes\u001B[49m(\u001B[38;5;124m'\u001B[39m\u001B[38;5;124m-topmost\u001B[39m\u001B[38;5;124m'\u001B[39m, \u001B[38;5;241m1\u001B[39m)\n\u001B[0;32m     16\u001B[0m ax_ \u001B[38;5;241m=\u001B[39m fig\u001B[38;5;241m.\u001B[39madd_subplot(\u001B[38;5;241m1\u001B[39m, \u001B[38;5;241m1\u001B[39m, \u001B[38;5;241m1\u001B[39m)\n\u001B[0;32m     17\u001B[0m ax_\u001B[38;5;241m.\u001B[39mset_xlim(\u001B[38;5;241m-\u001B[39m\u001B[38;5;241m3\u001B[39m, \u001B[38;5;241m3\u001B[39m)\n",
      "\u001B[1;31mAttributeError\u001B[0m: 'MainWindow' object has no attribute 'attributes'"
     ]
    }
   ],
   "execution_count": 93
  },
  {
   "metadata": {
    "ExecuteTime": {
     "end_time": "2024-05-16T14:17:02.431771Z",
     "start_time": "2024-05-16T14:17:02.424383Z"
    }
   },
   "cell_type": "code",
   "source": [
    "df\n",
    "asdasda_dropped"
   ],
   "id": "c2c592bd27f4943f",
   "outputs": [
    {
     "data": {
      "text/plain": [
       "                         timestamp msg_hash sender_peer_id receiver_peer_id  \\\n",
       "0 2024-04-22 14:06:58.001000+00:00      0x1              A                B   \n",
       "1 2024-04-22 14:06:58.002000+00:00      0x1              B                D   \n",
       "2 2024-04-22 14:06:58.003000+00:00      0x1              A                C   \n",
       "3 2024-04-22 14:06:58.003000+00:00      0x1              D                E   \n",
       "4 2024-04-22 14:06:58.006000+00:00      0x1              A                F   \n",
       "5 2024-04-22 14:06:59.001000+00:00      0x2              A                B   \n",
       "\n",
       "   elapsed  \n",
       "0        0  \n",
       "1        1  \n",
       "2        2  \n",
       "3        2  \n",
       "4        5  \n",
       "5     1000  "
      ],
      "text/html": [
       "<div>\n",
       "<style scoped>\n",
       "    .dataframe tbody tr th:only-of-type {\n",
       "        vertical-align: middle;\n",
       "    }\n",
       "\n",
       "    .dataframe tbody tr th {\n",
       "        vertical-align: top;\n",
       "    }\n",
       "\n",
       "    .dataframe thead th {\n",
       "        text-align: right;\n",
       "    }\n",
       "</style>\n",
       "<table border=\"1\" class=\"dataframe\">\n",
       "  <thead>\n",
       "    <tr style=\"text-align: right;\">\n",
       "      <th></th>\n",
       "      <th>timestamp</th>\n",
       "      <th>msg_hash</th>\n",
       "      <th>sender_peer_id</th>\n",
       "      <th>receiver_peer_id</th>\n",
       "      <th>elapsed</th>\n",
       "    </tr>\n",
       "  </thead>\n",
       "  <tbody>\n",
       "    <tr>\n",
       "      <th>0</th>\n",
       "      <td>2024-04-22 14:06:58.001000+00:00</td>\n",
       "      <td>0x1</td>\n",
       "      <td>A</td>\n",
       "      <td>B</td>\n",
       "      <td>0</td>\n",
       "    </tr>\n",
       "    <tr>\n",
       "      <th>1</th>\n",
       "      <td>2024-04-22 14:06:58.002000+00:00</td>\n",
       "      <td>0x1</td>\n",
       "      <td>B</td>\n",
       "      <td>D</td>\n",
       "      <td>1</td>\n",
       "    </tr>\n",
       "    <tr>\n",
       "      <th>2</th>\n",
       "      <td>2024-04-22 14:06:58.003000+00:00</td>\n",
       "      <td>0x1</td>\n",
       "      <td>A</td>\n",
       "      <td>C</td>\n",
       "      <td>2</td>\n",
       "    </tr>\n",
       "    <tr>\n",
       "      <th>3</th>\n",
       "      <td>2024-04-22 14:06:58.003000+00:00</td>\n",
       "      <td>0x1</td>\n",
       "      <td>D</td>\n",
       "      <td>E</td>\n",
       "      <td>2</td>\n",
       "    </tr>\n",
       "    <tr>\n",
       "      <th>4</th>\n",
       "      <td>2024-04-22 14:06:58.006000+00:00</td>\n",
       "      <td>0x1</td>\n",
       "      <td>A</td>\n",
       "      <td>F</td>\n",
       "      <td>5</td>\n",
       "    </tr>\n",
       "    <tr>\n",
       "      <th>5</th>\n",
       "      <td>2024-04-22 14:06:59.001000+00:00</td>\n",
       "      <td>0x2</td>\n",
       "      <td>A</td>\n",
       "      <td>B</td>\n",
       "      <td>1000</td>\n",
       "    </tr>\n",
       "  </tbody>\n",
       "</table>\n",
       "</div>"
      ]
     },
     "execution_count": 89,
     "metadata": {},
     "output_type": "execute_result"
    }
   ],
   "execution_count": 89
  },
  {
   "metadata": {
    "ExecuteTime": {
     "end_time": "2024-05-16T10:45:41.051156Z",
     "start_time": "2024-05-16T10:45:41.040497Z"
    }
   },
   "cell_type": "code",
   "source": [
    "# g_pos_layout, dict:\n",
    "# 'A' : [0.68431856 0.16921637], etc\n",
    "# e_pos_layout, dict\n",
    "# ('A', 'B'): [Pos]\n"
   ],
   "id": "241ddf7483395040",
   "outputs": [
    {
     "ename": "NameError",
     "evalue": "name 'ress' is not defined",
     "output_type": "error",
     "traceback": [
      "\u001B[1;31m---------------------------------------------------------------------------\u001B[0m",
      "\u001B[1;31mNameError\u001B[0m                                 Traceback (most recent call last)",
      "Cell \u001B[1;32mIn[55], line 5\u001B[0m\n\u001B[0;32m      1\u001B[0m \u001B[38;5;66;03m# g_pos_layout, dict:\u001B[39;00m\n\u001B[0;32m      2\u001B[0m \u001B[38;5;66;03m# 'A' : [0.68431856 0.16921637], etc\u001B[39;00m\n\u001B[0;32m      3\u001B[0m \u001B[38;5;66;03m# e_pos_layout, dict\u001B[39;00m\n\u001B[0;32m      4\u001B[0m \u001B[38;5;66;03m# ('A', 'B'): [Pos]\u001B[39;00m\n\u001B[1;32m----> 5\u001B[0m \u001B[43mress\u001B[49m\n",
      "\u001B[1;31mNameError\u001B[0m: name 'ress' is not defined"
     ]
    }
   ],
   "execution_count": 55
  },
  {
   "metadata": {},
   "cell_type": "code",
   "outputs": [],
   "execution_count": null,
   "source": "",
   "id": "4cf4ab3406d82296"
  }
 ],
 "metadata": {
  "kernelspec": {
   "display_name": "Python 3",
   "language": "python",
   "name": "python3"
  },
  "language_info": {
   "codemirror_mode": {
    "name": "ipython",
    "version": 2
   },
   "file_extension": ".py",
   "mimetype": "text/x-python",
   "name": "python",
   "nbconvert_exporter": "python",
   "pygments_lexer": "ipython2",
   "version": "2.7.6"
  }
 },
 "nbformat": 4,
 "nbformat_minor": 5
}
