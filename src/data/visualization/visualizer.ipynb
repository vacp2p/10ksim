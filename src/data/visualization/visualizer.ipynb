{
 "cells": [
  {
   "metadata": {
    "ExecuteTime": {
     "end_time": "2024-05-16T09:17:36.633066Z",
     "start_time": "2024-05-16T09:17:36.627412Z"
    }
   },
   "cell_type": "code",
   "source": [
    "# Python Imports\n",
    "import ipywidgets as widgets\n",
    "import networkx as nx\n",
    "import matplotlib\n",
    "matplotlib.use('Qt5Agg')\n",
    "import matplotlib.pyplot as plt\n",
    "\n",
    "# Project Imports\n",
    "from src.mesh_analysis.readers.file_reader import FileReader\n",
    "from src.mesh_analysis.tracers.waku_tracer import WakuTracer"
   ],
   "id": "b364992afb5a097b",
   "outputs": [
    {
     "name": "stderr",
     "output_type": "stream",
     "text": [
      "C:\\Users\\alber\\AppData\\Local\\Temp\\ipykernel_22032\\149751368.py:5: MatplotlibDeprecationWarning: Auto-close()ing of figures upon backend switching is deprecated since 3.8 and will be removed two minor releases later.  To suppress this warning, explicitly call plt.close('all') first.\n",
      "  matplotlib.use('Qt5Agg')\n"
     ]
    }
   ],
   "execution_count": 16
  },
  {
   "metadata": {
    "ExecuteTime": {
     "end_time": "2024-05-16T09:40:16.522269Z",
     "start_time": "2024-05-16T09:40:16.062594Z"
    }
   },
   "cell_type": "code",
   "source": [
    "tracer = WakuTracer()\n",
    "reader = FileReader(\"../../../test/log_test/\", tracer)\n",
    "\n",
    "df = reader.read()\n",
    "test = df.reset_index()"
   ],
   "id": "initial_id",
   "outputs": [],
   "execution_count": 28
  },
  {
   "metadata": {
    "ExecuteTime": {
     "end_time": "2024-05-16T09:42:37.722602Z",
     "start_time": "2024-05-16T09:42:37.717822Z"
    }
   },
   "cell_type": "code",
   "source": "df",
   "id": "43e4f1618d751b7d",
   "outputs": [
    {
     "data": {
      "text/plain": [
       "                                       sender_peer_id receiver_peer_id\n",
       "timestamp                     msg_hash                                \n",
       "2024-04-22 14:06:58.001+00:00 0x1                   A                B\n",
       "2024-04-22 14:06:58.002+00:00 0x1                   B                D\n",
       "2024-04-22 14:06:58.003+00:00 0x1                   A                C\n",
       "                              0x1                   D                E\n",
       "2024-04-22 14:06:58.006+00:00 0x1                   A                F\n",
       "2024-04-22 14:06:59.001+00:00 0x2                   A                B"
      ],
      "text/html": [
       "<div>\n",
       "<style scoped>\n",
       "    .dataframe tbody tr th:only-of-type {\n",
       "        vertical-align: middle;\n",
       "    }\n",
       "\n",
       "    .dataframe tbody tr th {\n",
       "        vertical-align: top;\n",
       "    }\n",
       "\n",
       "    .dataframe thead th {\n",
       "        text-align: right;\n",
       "    }\n",
       "</style>\n",
       "<table border=\"1\" class=\"dataframe\">\n",
       "  <thead>\n",
       "    <tr style=\"text-align: right;\">\n",
       "      <th></th>\n",
       "      <th></th>\n",
       "      <th>sender_peer_id</th>\n",
       "      <th>receiver_peer_id</th>\n",
       "    </tr>\n",
       "    <tr>\n",
       "      <th>timestamp</th>\n",
       "      <th>msg_hash</th>\n",
       "      <th></th>\n",
       "      <th></th>\n",
       "    </tr>\n",
       "  </thead>\n",
       "  <tbody>\n",
       "    <tr>\n",
       "      <th>2024-04-22 14:06:58.001+00:00</th>\n",
       "      <th>0x1</th>\n",
       "      <td>A</td>\n",
       "      <td>B</td>\n",
       "    </tr>\n",
       "    <tr>\n",
       "      <th>2024-04-22 14:06:58.002+00:00</th>\n",
       "      <th>0x1</th>\n",
       "      <td>B</td>\n",
       "      <td>D</td>\n",
       "    </tr>\n",
       "    <tr>\n",
       "      <th rowspan=\"2\" valign=\"top\">2024-04-22 14:06:58.003+00:00</th>\n",
       "      <th>0x1</th>\n",
       "      <td>A</td>\n",
       "      <td>C</td>\n",
       "    </tr>\n",
       "    <tr>\n",
       "      <th>0x1</th>\n",
       "      <td>D</td>\n",
       "      <td>E</td>\n",
       "    </tr>\n",
       "    <tr>\n",
       "      <th>2024-04-22 14:06:58.006+00:00</th>\n",
       "      <th>0x1</th>\n",
       "      <td>A</td>\n",
       "      <td>F</td>\n",
       "    </tr>\n",
       "    <tr>\n",
       "      <th>2024-04-22 14:06:59.001+00:00</th>\n",
       "      <th>0x2</th>\n",
       "      <td>A</td>\n",
       "      <td>B</td>\n",
       "    </tr>\n",
       "  </tbody>\n",
       "</table>\n",
       "</div>"
      ]
     },
     "execution_count": 30,
     "metadata": {},
     "output_type": "execute_result"
    }
   ],
   "execution_count": 30
  },
  {
   "metadata": {},
   "cell_type": "markdown",
   "source": "",
   "id": "20263a2b18ec67ab"
  },
  {
   "metadata": {
    "ExecuteTime": {
     "end_time": "2024-05-16T10:36:29.833227Z",
     "start_time": "2024-05-16T10:36:29.750099Z"
    }
   },
   "cell_type": "code",
   "source": [
    "%matplotlib\n",
    "dropdown1 = widgets.SelectMultiple(\n",
    "                        options=df.index.get_level_values(0).drop_duplicates(),\n",
    "                        description='Timestamp',\n",
    "                        disabled=False,\n",
    "                        layout={'height':'100px', 'width':'40%'})\n",
    "# todo: modify dropdown2 depending on 1\n",
    "dropdown2 = widgets.SelectMultiple(\n",
    "                        options=df.index.get_level_values(1).drop_duplicates(),\n",
    "                        description='Msg hash',\n",
    "                        disabled=False,\n",
    "                        layout={'height':'100px', 'width':'40%'}) \n",
    "    \n",
    "fig = plt.figure(figsize=(10,10))\n",
    "ax_ = fig.add_subplot(1, 1, 1)\n",
    "ax_.set_xlim(-2, 2)\n",
    "ax_.set_ylim(-2, 2)\n",
    "\n",
    "data_prepared = df.reset_index() \n",
    "complete_graph = nx.from_pandas_edgelist(data_prepared, 'sender_peer_id', 'receiver_peer_id', edge_attr=['timestamp', 'msg_hash'], create_using=nx.DiGraph)\n",
    "g_pos_layout = nx.kamada_kawai_layout(complete_graph)\n",
    "\n",
    "\n",
    "def test(x, y, data_):\n",
    "    # todo maintain limits?\n",
    "    ax_.clear()\n",
    "    ax_.set_xlim(-1, 1)\n",
    "    ax_.set_ylim(-1, 1)\n",
    "    # 1.\n",
    "    data_ = data_[data_.index.get_level_values(1) == y[0]]\n",
    "\n",
    "    # 3. \n",
    "    first_timestamp = data_.index.get_level_values(0)[0]\n",
    "    print(f\"first timestamp: {first_timestamp}\")\n",
    "    print(f\"selected timestamp: {y[0]}\")\n",
    "    \n",
    "    df_ = data_.loc[(first_timestamp,y[0]):(x[0], y[0])]\n",
    "    df_.reset_index(inplace=True)\n",
    "    print(f\"selected df \\n {df_}\")\n",
    "    selected_graph = nx.from_pandas_edgelist(df_, 'sender_peer_id', 'receiver_peer_id', edge_attr=['timestamp', 'msg_hash'], create_using=nx.DiGraph)\n",
    "    \n",
    "    # 4. \n",
    "    g_pos_layout_selected = {key: g_pos_layout[key] for key in list(selected_graph.nodes)}\n",
    "    # e_pos_layout_selected = {key: e_pos_layout[key] for key in selected_graph.edges}\n",
    "    print(f\"node positions {g_pos_layout_selected}\")\n",
    "    nx.draw(selected_graph, g_pos_layout_selected, ax=ax_, with_labels=True)\n",
    "    nx.draw_networkx_edge_labels(selected_graph, g_pos_layout_selected, ax=ax_)\n",
    "    plt.show()\n",
    "\n",
    "\n",
    "i_plot = widgets.interactive(test, x=dropdown1, y=dropdown2, data_=widgets.fixed(df))\n",
    "i_plot"
   ],
   "id": "115666e06e1945d6",
   "outputs": [
    {
     "name": "stdout",
     "output_type": "stream",
     "text": [
      "Using matplotlib backend: QtAgg\n"
     ]
    },
    {
     "data": {
      "text/plain": [
       "interactive(children=(SelectMultiple(description='Timestamp', layout=Layout(height='100px', width='40%'), opti…"
      ],
      "application/vnd.jupyter.widget-view+json": {
       "version_major": 2,
       "version_minor": 0,
       "model_id": "4353aeccb7b947608f3c7b7560731146"
      }
     },
     "execution_count": 44,
     "metadata": {},
     "output_type": "execute_result"
    }
   ],
   "execution_count": 44
  },
  {
   "metadata": {
    "ExecuteTime": {
     "end_time": "2024-05-14T11:01:14.508434Z",
     "start_time": "2024-05-14T11:01:14.502823Z"
    }
   },
   "cell_type": "code",
   "source": [
    "print(df)\n",
    "data_ = df[df.index.get_level_values(1) == '0x1']"
   ],
   "id": "c2c592bd27f4943f",
   "outputs": [
    {
     "name": "stdout",
     "output_type": "stream",
     "text": [
      "                                       sender_peer_id receiver_peer_id\n",
      "timestamp                     msg_hash                                \n",
      "2024-04-22 14:06:58.001+00:00 0x1                   A                B\n",
      "2024-04-22 14:06:58.002+00:00 0x1                   B                D\n",
      "2024-04-22 14:06:58.003+00:00 0x1                   A                C\n",
      "                              0x1                   D                E\n",
      "2024-04-22 14:06:58.006+00:00 0x1                   A                F\n",
      "2024-04-22 14:06:59.001+00:00 0x1                   A                B\n"
     ]
    }
   ],
   "execution_count": 70
  },
  {
   "metadata": {},
   "cell_type": "code",
   "outputs": [],
   "execution_count": null,
   "source": [
    "# g_pos_layout, dict:\n",
    "# 'A' : [0.68431856 0.16921637], etc\n",
    "# e_pos_layout, dict\n",
    "# ('A', 'B'): [Pos]"
   ],
   "id": "241ddf7483395040"
  }
 ],
 "metadata": {
  "kernelspec": {
   "display_name": "Python 3",
   "language": "python",
   "name": "python3"
  },
  "language_info": {
   "codemirror_mode": {
    "name": "ipython",
    "version": 2
   },
   "file_extension": ".py",
   "mimetype": "text/x-python",
   "name": "python",
   "nbconvert_exporter": "python",
   "pygments_lexer": "ipython2",
   "version": "2.7.6"
  }
 },
 "nbformat": 4,
 "nbformat_minor": 5
}
