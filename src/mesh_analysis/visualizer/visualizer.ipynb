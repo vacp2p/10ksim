{
 "cells": [
  {
   "metadata": {
    "ExecuteTime": {
     "end_time": "2024-05-17T10:52:44.655132Z",
     "start_time": "2024-05-17T10:52:43.976219Z"
    }
   },
   "cell_type": "code",
   "source": [
    "# Python Imports\n",
    "import ipywidgets as widgets\n",
    "import networkx as nx\n",
    "import matplotlib\n",
    "import matplotlib.pyplot as plt\n",
    "matplotlib.use('Qt5Agg')\n",
    "\n",
    "# Project Imports\n",
    "from src.mesh_analysis.readers.file_reader import FileReader\n",
    "from src.mesh_analysis.tracers.waku_tracer import WakuTracer\n",
    "from src.mesh_analysis.visualizer.waku_visualizer import add_elapsed_time"
   ],
   "id": "b364992afb5a097b",
   "outputs": [],
   "execution_count": 1
  },
  {
   "metadata": {
    "ExecuteTime": {
     "end_time": "2024-05-17T10:52:46.084965Z",
     "start_time": "2024-05-17T10:52:45.606690Z"
    }
   },
   "cell_type": "code",
   "source": [
    "tracer = WakuTracer()\n",
    "reader = FileReader(\"../../../test/log_test/\", tracer)\n",
    "\n",
    "df = reader.read()\n",
    "df = add_elapsed_time(df)"
   ],
   "id": "initial_id",
   "outputs": [],
   "execution_count": 2
  },
  {
   "metadata": {
    "ExecuteTime": {
     "end_time": "2024-05-17T10:52:48.534727Z",
     "start_time": "2024-05-17T10:52:48.523542Z"
    }
   },
   "cell_type": "code",
   "source": "df",
   "id": "43e4f1618d751b7d",
   "outputs": [
    {
     "data": {
      "text/plain": [
       "                                          sender_peer_id receiver_peer_id  \\\n",
       "msg_hash timestamp                                                          \n",
       "0x1      2024-04-22 14:06:58.001000+00:00              A                B   \n",
       "         2024-04-22 14:06:58.002000+00:00              B                D   \n",
       "         2024-04-22 14:06:58.003000+00:00              A                C   \n",
       "         2024-04-22 14:06:58.003000+00:00              D                E   \n",
       "         2024-04-22 14:06:58.006000+00:00              A                F   \n",
       "0x2      2024-04-22 14:06:59.001000+00:00              A                B   \n",
       "\n",
       "                                           elapsed_time  \n",
       "msg_hash timestamp                                       \n",
       "0x1      2024-04-22 14:06:58.001000+00:00             0  \n",
       "         2024-04-22 14:06:58.002000+00:00             1  \n",
       "         2024-04-22 14:06:58.003000+00:00             2  \n",
       "         2024-04-22 14:06:58.003000+00:00             2  \n",
       "         2024-04-22 14:06:58.006000+00:00             5  \n",
       "0x2      2024-04-22 14:06:59.001000+00:00             0  "
      ],
      "text/html": [
       "<div>\n",
       "<style scoped>\n",
       "    .dataframe tbody tr th:only-of-type {\n",
       "        vertical-align: middle;\n",
       "    }\n",
       "\n",
       "    .dataframe tbody tr th {\n",
       "        vertical-align: top;\n",
       "    }\n",
       "\n",
       "    .dataframe thead th {\n",
       "        text-align: right;\n",
       "    }\n",
       "</style>\n",
       "<table border=\"1\" class=\"dataframe\">\n",
       "  <thead>\n",
       "    <tr style=\"text-align: right;\">\n",
       "      <th></th>\n",
       "      <th></th>\n",
       "      <th>sender_peer_id</th>\n",
       "      <th>receiver_peer_id</th>\n",
       "      <th>elapsed_time</th>\n",
       "    </tr>\n",
       "    <tr>\n",
       "      <th>msg_hash</th>\n",
       "      <th>timestamp</th>\n",
       "      <th></th>\n",
       "      <th></th>\n",
       "      <th></th>\n",
       "    </tr>\n",
       "  </thead>\n",
       "  <tbody>\n",
       "    <tr>\n",
       "      <th rowspan=\"5\" valign=\"top\">0x1</th>\n",
       "      <th>2024-04-22 14:06:58.001000+00:00</th>\n",
       "      <td>A</td>\n",
       "      <td>B</td>\n",
       "      <td>0</td>\n",
       "    </tr>\n",
       "    <tr>\n",
       "      <th>2024-04-22 14:06:58.002000+00:00</th>\n",
       "      <td>B</td>\n",
       "      <td>D</td>\n",
       "      <td>1</td>\n",
       "    </tr>\n",
       "    <tr>\n",
       "      <th>2024-04-22 14:06:58.003000+00:00</th>\n",
       "      <td>A</td>\n",
       "      <td>C</td>\n",
       "      <td>2</td>\n",
       "    </tr>\n",
       "    <tr>\n",
       "      <th>2024-04-22 14:06:58.003000+00:00</th>\n",
       "      <td>D</td>\n",
       "      <td>E</td>\n",
       "      <td>2</td>\n",
       "    </tr>\n",
       "    <tr>\n",
       "      <th>2024-04-22 14:06:58.006000+00:00</th>\n",
       "      <td>A</td>\n",
       "      <td>F</td>\n",
       "      <td>5</td>\n",
       "    </tr>\n",
       "    <tr>\n",
       "      <th>0x2</th>\n",
       "      <th>2024-04-22 14:06:59.001000+00:00</th>\n",
       "      <td>A</td>\n",
       "      <td>B</td>\n",
       "      <td>0</td>\n",
       "    </tr>\n",
       "  </tbody>\n",
       "</table>\n",
       "</div>"
      ]
     },
     "execution_count": 3,
     "metadata": {},
     "output_type": "execute_result"
    }
   ],
   "execution_count": 3
  },
  {
   "metadata": {},
   "cell_type": "markdown",
   "source": "",
   "id": "20263a2b18ec67ab"
  },
  {
   "metadata": {
    "ExecuteTime": {
     "end_time": "2024-05-17T10:59:41.428829Z",
     "start_time": "2024-05-17T10:59:41.345179Z"
    }
   },
   "cell_type": "code",
   "source": [
    "%matplotlib\n",
    "output = widgets.Output()\n",
    "\n",
    "msg_dropdown = widgets.SelectMultiple(\n",
    "                        options=df.index.get_level_values(0).drop_duplicates(),\n",
    "                        description='Msg hash',\n",
    "                        disabled=False,\n",
    "                        layout={'height':'100px', 'width':'100%'}) \n",
    "\n",
    "timestamp_dropdown = widgets.SelectMultiple(\n",
    "                        options=[],\n",
    "                        description='Timestamp',\n",
    "                        disabled=False,\n",
    "                        layout={'height':'100px', 'width':'100%'})\n",
    "\n",
    "@output.capture()\n",
    "def update_timestamps(change):\n",
    "    selected_hashes = change['new']\n",
    "    timestamps = df.loc[selected_hashes[0]].index.get_level_values('timestamp').drop_duplicates()\n",
    "    timestamp_dropdown.options = timestamps\n",
    "\n",
    "        \n",
    "msg_dropdown.observe(update_timestamps, names='value')\n",
    "\n",
    "    \n",
    "fig = plt.figure(figsize=(10,10))\n",
    "\n",
    "ax_ = fig.add_subplot(1, 1, 1)\n",
    "ax_.set_xlim(-3, 3)\n",
    "ax_.set_ylim(-3, 3)\n",
    "\n",
    "data_prepared = df.reset_index()\n",
    "complete_graph = nx.from_pandas_edgelist(data_prepared, 'sender_peer_id', 'receiver_peer_id', edge_attr=['timestamp', 'msg_hash', 'elapsed_time'], create_using=nx.DiGraph)\n",
    "g_pos_layout = nx.kamada_kawai_layout(complete_graph)\n",
    "\n",
    "\n",
    "def test(x, y, data_):\n",
    "    # todo maintain limits?\n",
    "    ax_.clear()\n",
    "    ax_.set_xlim(-2, 2)\n",
    "    ax_.set_ylim(-2, 2)\n",
    "\n",
    "    data_ = data_[data_.index.get_level_values(0) == x[0]]\n",
    "    first_timestamp = data_.index.get_level_values(1)[0]    \n",
    "    df_ = data_.loc[(x[0], first_timestamp,):(x[0], y[0])]\n",
    "    df_.reset_index(inplace=True)\n",
    "    \n",
    "    selected_graph = nx.from_pandas_edgelist(df_, 'sender_peer_id', 'receiver_peer_id', edge_attr=['timestamp', 'msg_hash', 'elapsed_time'], create_using=nx.DiGraph)\n",
    " \n",
    "    g_pos_layout_selected = {key: g_pos_layout[key] for key in list(selected_graph.nodes)}\n",
    "\n",
    "    nx.draw(selected_graph, g_pos_layout_selected, ax=ax_, with_labels=True)\n",
    "    edge_labels = {} \n",
    "    for u, v, data in selected_graph.edges(data=True):\n",
    "        edge_labels[u, v] = f\"{data['elapsed_time']}ms\"\n",
    "        \n",
    "    nx.draw_networkx_edge_labels(selected_graph, g_pos_layout_selected, edge_labels=edge_labels, ax=ax_)\n",
    "    plt.show()\n",
    "\n",
    "i_plot = widgets.interactive(test, x=msg_dropdown, y=timestamp_dropdown, data_=widgets.fixed(df))\n",
    "i_plot\n"
   ],
   "id": "115666e06e1945d6",
   "outputs": [
    {
     "name": "stdout",
     "output_type": "stream",
     "text": [
      "Using matplotlib backend: QtAgg\n"
     ]
    },
    {
     "data": {
      "text/plain": [
       "interactive(children=(SelectMultiple(description='Msg hash', layout=Layout(height='100px', width='100%'), opti…"
      ],
      "application/vnd.jupyter.widget-view+json": {
       "version_major": 2,
       "version_minor": 0,
       "model_id": "eb4ba4392a8a4cea8988a957f6946f46"
      }
     },
     "execution_count": 18,
     "metadata": {},
     "output_type": "execute_result"
    }
   ],
   "execution_count": 18
  },
  {
   "metadata": {},
   "cell_type": "code",
   "outputs": [],
   "execution_count": null,
   "source": "",
   "id": "f057ce5d030cc16f"
  }
 ],
 "metadata": {
  "kernelspec": {
   "display_name": "Python 3",
   "language": "python",
   "name": "python3"
  },
  "language_info": {
   "codemirror_mode": {
    "name": "ipython",
    "version": 2
   },
   "file_extension": ".py",
   "mimetype": "text/x-python",
   "name": "python",
   "nbconvert_exporter": "python",
   "pygments_lexer": "ipython2",
   "version": "2.7.6"
  }
 },
 "nbformat": 4,
 "nbformat_minor": 5
}
